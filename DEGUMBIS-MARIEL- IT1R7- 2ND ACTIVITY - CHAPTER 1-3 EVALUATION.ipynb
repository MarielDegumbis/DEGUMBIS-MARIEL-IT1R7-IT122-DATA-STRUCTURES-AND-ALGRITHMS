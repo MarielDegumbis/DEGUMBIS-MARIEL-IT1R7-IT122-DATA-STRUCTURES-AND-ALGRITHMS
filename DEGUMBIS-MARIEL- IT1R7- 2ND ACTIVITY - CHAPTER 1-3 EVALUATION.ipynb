{
 "cells": [
  {
   "cell_type": "code",
   "execution_count": 3,
   "id": "stupid-today",
   "metadata": {},
   "outputs": [
    {
     "name": "stdout",
     "output_type": "stream",
     "text": [
      "Discuss your learnings on Chapter 1  time-frame 8:00 - 30:35. Minimum of 200 characters\n",
      "Chapter 1 leanings are the following.\n",
      "I learn the importance of Algorithm and Data Structures\n",
      "I learn how to create program\n",
      "I learn how to Structure a Data\n",
      "I also learn the characteristic of a Data Structures\n",
      "I learn how to write an algorithm\n",
      "I learn the Basic Terminology\n"
     ]
    }
   ],
   "source": [
    "print (\"Discuss your learnings on Chapter 1  time-frame 8:00 - 30:35. Minimum of 200 characters\")\n",
    "\n",
    "\n",
    "print(\"Chapter 1 leanings are the following.\")\n",
    "print(\"I learn the importance of Algorithm and Data Structures\")\n",
    "print(\"I learn how to create program\")\n",
    "print(\"I learn how to Structure a Data\")\n",
    "print(\"I also learn the characteristic of a Data Structures\")\n",
    "print(\"I learn how to write an algorithm\")\n",
    "print(\"I learn the Basic Terminology\")\n",
    "\n"
   ]
  },
  {
   "cell_type": "code",
   "execution_count": 14,
   "id": "standard-found",
   "metadata": {},
   "outputs": [
    {
     "name": "stdout",
     "output_type": "stream",
     "text": [
      "Discuss your learnings on Chapter 1  time-frame 35:00 - end. Minimum of 200 characters\n",
      "Chapter 2 leanings are the following.\n",
      "I learn the data diffinition on how to define a particular data of the atomic, traceable, accurate, and clear and concise\n",
      "I also what is the data objects\n",
      "I learn that there are two types of Data to classify the various type of data such as integers and strings. This type of data determines the values that can be used with the correspoding type of data.\n"
     ]
    }
   ],
   "source": [
    "print(\"Discuss your learnings on Chapter 1  time-frame 35:00 - end. Minimum of 200 characters\")\n",
    "\n",
    "print(\"Chapter 2 leanings are the following.\")\n",
    "print(\"I learn the data diffinition on how to define a particular data of the atomic, traceable, accurate, and clear and concise\")\n",
    "print(\"I also what is the data objects\")\n",
    "print(\"I learn that there are two types of Data to classify the various type of data such as integers and strings. This type of data determines the values that can be used with the correspoding type of data.\")\n"
   ]
  },
  {
   "cell_type": "code",
   "execution_count": 15,
   "id": "lesbian-hypothesis",
   "metadata": {},
   "outputs": [
    {
     "name": "stdout",
     "output_type": "stream",
     "text": [
      "Discuss your learnings on Chapter 2  time-frame 5:00 - 9:00. Minimum of 200 characters\n",
      "Chapter 2 leanings are the following.\n",
      "I learn what is a built-in data type, a data type which has a language that has a built in support\n",
      "I learn also what is a derived data type, these data types which implelemntation independent as they can be implemented in one or the other way.\n",
      "I learn the Basic Operators, that the data in the data structures are processed by certain operations.\n"
     ]
    }
   ],
   "source": [
    "print(\"Discuss your learnings on Chapter 2  time-frame 5:00 - 9:00. Minimum of 200 characters\")\n",
    "\n",
    "print(\"Chapter 2 leanings are the following.\")\n",
    "print(\"I learn what is a built-in data type, a data type which has a language that has a built in support\")\n",
    "print(\"I learn also what is a derived data type, these data types which implelemntation independent as they can be implemented in one or the other way.\")\n",
    "print(\"I learn the Basic Operators, that the data in the data structures are processed by certain operations.\")\n"
   ]
  },
  {
   "cell_type": "code",
   "execution_count": 10,
   "id": "diagnostic-monthly",
   "metadata": {},
   "outputs": [
    {
     "name": "stdout",
     "output_type": "stream",
     "text": [
      "Discuss your learnings on Chapter 3  time-frame 3:00 - 18:00. Minimum of 200 characters\n",
      "Chapter 3 leanings are the following.\n",
      "In this chapterI learn whats an array, array is a container which can hold a fix number of items and these items should be of the same type. because most of the data structure make use of arrays to iplement their algorithms.\n",
      "and also i learn whats the importnant terms to understand the concept of arrays which is the element that store items in an array, and index is a location of an element in an array that has a numerical index that u=used to identify the element\n",
      "I learn what is array representation, this array can declair a various ways\n",
      "I also learn about the basc operations and its functions.\n"
     ]
    }
   ],
   "source": [
    "print(\"Discuss your learnings on Chapter 3  time-frame 3:00 - 18:00. Minimum of 200 characters\")\n",
    "\n",
    "print(\"Chapter 3 leanings are the following.\")\n",
    "print(\"In this chapterI learn whats an array, array is a container which can hold a fix number of items and these items should be of the same type. because most of the data structure make use of arrays to iplement their algorithms.\")\n",
    "print(\"and also i learn whats the importnant terms to understand the concept of arrays which is the element that store items in an array, and index is a location of an element in an array that has a numerical index that u=used to identify the element\")\n",
    "print(\"I learn what is array representation, this array can declair a various ways\")\n",
    "print(\"I also learn about the basc operations and its functions.\")"
   ]
  },
  {
   "cell_type": "code",
   "execution_count": 2,
   "id": "laughing-archive",
   "metadata": {},
   "outputs": [
    {
     "name": "stdout",
     "output_type": "stream",
     "text": [
      "200\n",
      "250\n",
      "100\n",
      "80\n",
      "50\n",
      "25\n",
      "15\n"
     ]
    }
   ],
   "source": [
    "from array import*\n",
    "\n",
    "arrayName = array('i', [200,150,100,50,25,15,5])\n",
    "arrayName.insert(3,80)\n",
    "arrayName.remove(5)\n",
    "arrayName[1] = 250\n",
    "for x in arrayName:\n",
    "    print(x)"
   ]
  },
  {
   "cell_type": "code",
   "execution_count": null,
   "id": "improving-finder",
   "metadata": {},
   "outputs": [],
   "source": []
  },
  {
   "cell_type": "code",
   "execution_count": null,
   "id": "metropolitan-hopkins",
   "metadata": {},
   "outputs": [],
   "source": []
  },
  {
   "cell_type": "code",
   "execution_count": null,
   "id": "prospective-madonna",
   "metadata": {},
   "outputs": [],
   "source": []
  }
 ],
 "metadata": {
  "kernelspec": {
   "display_name": "Python 3",
   "language": "python",
   "name": "python3"
  },
  "language_info": {
   "codemirror_mode": {
    "name": "ipython",
    "version": 3
   },
   "file_extension": ".py",
   "mimetype": "text/x-python",
   "name": "python",
   "nbconvert_exporter": "python",
   "pygments_lexer": "ipython3",
   "version": "3.9.2"
  }
 },
 "nbformat": 4,
 "nbformat_minor": 5
}
